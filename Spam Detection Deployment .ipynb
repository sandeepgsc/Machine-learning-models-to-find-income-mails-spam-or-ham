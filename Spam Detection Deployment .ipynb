{
 "cells": [
  {
   "cell_type": "code",
   "execution_count": 1,
   "id": "measured-flash",
   "metadata": {},
   "outputs": [],
   "source": [
    "import numpy as np\n",
    "import pandas as pd \n",
    "import matplotlib.pyplot as  plt \n",
    "import seaborn as sns "
   ]
  },
  {
   "cell_type": "code",
   "execution_count": 2,
   "id": "identical-activation",
   "metadata": {},
   "outputs": [],
   "source": [
    "df = pd.read_csv(\"spam.csv\")"
   ]
  },
  {
   "cell_type": "code",
   "execution_count": 3,
   "id": "hairy-yahoo",
   "metadata": {},
   "outputs": [
    {
     "data": {
      "text/html": [
       "<div>\n",
       "<style scoped>\n",
       "    .dataframe tbody tr th:only-of-type {\n",
       "        vertical-align: middle;\n",
       "    }\n",
       "\n",
       "    .dataframe tbody tr th {\n",
       "        vertical-align: top;\n",
       "    }\n",
       "\n",
       "    .dataframe thead th {\n",
       "        text-align: right;\n",
       "    }\n",
       "</style>\n",
       "<table border=\"1\" class=\"dataframe\">\n",
       "  <thead>\n",
       "    <tr style=\"text-align: right;\">\n",
       "      <th></th>\n",
       "      <th>v1</th>\n",
       "      <th>v2</th>\n",
       "      <th>Unnamed: 2</th>\n",
       "      <th>Unnamed: 3</th>\n",
       "      <th>Unnamed: 4</th>\n",
       "    </tr>\n",
       "  </thead>\n",
       "  <tbody>\n",
       "    <tr>\n",
       "      <th>0</th>\n",
       "      <td>ham</td>\n",
       "      <td>Go until jurong point, crazy.. Available only ...</td>\n",
       "      <td>NaN</td>\n",
       "      <td>NaN</td>\n",
       "      <td>NaN</td>\n",
       "    </tr>\n",
       "    <tr>\n",
       "      <th>1</th>\n",
       "      <td>ham</td>\n",
       "      <td>Ok lar... Joking wif u oni...</td>\n",
       "      <td>NaN</td>\n",
       "      <td>NaN</td>\n",
       "      <td>NaN</td>\n",
       "    </tr>\n",
       "    <tr>\n",
       "      <th>2</th>\n",
       "      <td>spam</td>\n",
       "      <td>Free entry in 2 a wkly comp to win FA Cup fina...</td>\n",
       "      <td>NaN</td>\n",
       "      <td>NaN</td>\n",
       "      <td>NaN</td>\n",
       "    </tr>\n",
       "    <tr>\n",
       "      <th>3</th>\n",
       "      <td>ham</td>\n",
       "      <td>U dun say so early hor... U c already then say...</td>\n",
       "      <td>NaN</td>\n",
       "      <td>NaN</td>\n",
       "      <td>NaN</td>\n",
       "    </tr>\n",
       "    <tr>\n",
       "      <th>4</th>\n",
       "      <td>ham</td>\n",
       "      <td>Nah I don't think he goes to usf, he lives aro...</td>\n",
       "      <td>NaN</td>\n",
       "      <td>NaN</td>\n",
       "      <td>NaN</td>\n",
       "    </tr>\n",
       "  </tbody>\n",
       "</table>\n",
       "</div>"
      ],
      "text/plain": [
       "     v1                                                 v2 Unnamed: 2  \\\n",
       "0   ham  Go until jurong point, crazy.. Available only ...        NaN   \n",
       "1   ham                      Ok lar... Joking wif u oni...        NaN   \n",
       "2  spam  Free entry in 2 a wkly comp to win FA Cup fina...        NaN   \n",
       "3   ham  U dun say so early hor... U c already then say...        NaN   \n",
       "4   ham  Nah I don't think he goes to usf, he lives aro...        NaN   \n",
       "\n",
       "  Unnamed: 3 Unnamed: 4  \n",
       "0        NaN        NaN  \n",
       "1        NaN        NaN  \n",
       "2        NaN        NaN  \n",
       "3        NaN        NaN  \n",
       "4        NaN        NaN  "
      ]
     },
     "execution_count": 3,
     "metadata": {},
     "output_type": "execute_result"
    }
   ],
   "source": [
    "df.head()"
   ]
  },
  {
   "cell_type": "code",
   "execution_count": 4,
   "id": "imperial-eight",
   "metadata": {},
   "outputs": [],
   "source": [
    "df = df.drop(['Unnamed: 2','Unnamed: 3','Unnamed: 3'],axis = 1)\n"
   ]
  },
  {
   "cell_type": "code",
   "execution_count": 5,
   "id": "scheduled-needle",
   "metadata": {},
   "outputs": [
    {
     "data": {
      "text/html": [
       "<div>\n",
       "<style scoped>\n",
       "    .dataframe tbody tr th:only-of-type {\n",
       "        vertical-align: middle;\n",
       "    }\n",
       "\n",
       "    .dataframe tbody tr th {\n",
       "        vertical-align: top;\n",
       "    }\n",
       "\n",
       "    .dataframe thead th {\n",
       "        text-align: right;\n",
       "    }\n",
       "</style>\n",
       "<table border=\"1\" class=\"dataframe\">\n",
       "  <thead>\n",
       "    <tr style=\"text-align: right;\">\n",
       "      <th></th>\n",
       "      <th>v1</th>\n",
       "      <th>v2</th>\n",
       "      <th>Unnamed: 4</th>\n",
       "    </tr>\n",
       "  </thead>\n",
       "  <tbody>\n",
       "    <tr>\n",
       "      <th>3657</th>\n",
       "      <td>ham</td>\n",
       "      <td>R u here yet? I'm wearing blue shirt n black p...</td>\n",
       "      <td>NaN</td>\n",
       "    </tr>\n",
       "    <tr>\n",
       "      <th>1871</th>\n",
       "      <td>ham</td>\n",
       "      <td>Dont know supports ass and srt i thnk. I think...</td>\n",
       "      <td>NaN</td>\n",
       "    </tr>\n",
       "    <tr>\n",
       "      <th>3096</th>\n",
       "      <td>ham</td>\n",
       "      <td>Yo, you at jp and hungry like a mofo?</td>\n",
       "      <td>NaN</td>\n",
       "    </tr>\n",
       "    <tr>\n",
       "      <th>4182</th>\n",
       "      <td>ham</td>\n",
       "      <td>Sorry, I'll call later in meeting</td>\n",
       "      <td>NaN</td>\n",
       "    </tr>\n",
       "    <tr>\n",
       "      <th>2360</th>\n",
       "      <td>ham</td>\n",
       "      <td>Had the money issue weigh me down but thanks t...</td>\n",
       "      <td>NaN</td>\n",
       "    </tr>\n",
       "  </tbody>\n",
       "</table>\n",
       "</div>"
      ],
      "text/plain": [
       "       v1                                                 v2 Unnamed: 4\n",
       "3657  ham  R u here yet? I'm wearing blue shirt n black p...        NaN\n",
       "1871  ham  Dont know supports ass and srt i thnk. I think...        NaN\n",
       "3096  ham              Yo, you at jp and hungry like a mofo?        NaN\n",
       "4182  ham                  Sorry, I'll call later in meeting        NaN\n",
       "2360  ham  Had the money issue weigh me down but thanks t...        NaN"
      ]
     },
     "execution_count": 5,
     "metadata": {},
     "output_type": "execute_result"
    }
   ],
   "source": [
    "df.sample(5)"
   ]
  },
  {
   "cell_type": "code",
   "execution_count": 6,
   "id": "falling-generation",
   "metadata": {},
   "outputs": [
    {
     "data": {
      "text/html": [
       "<div>\n",
       "<style scoped>\n",
       "    .dataframe tbody tr th:only-of-type {\n",
       "        vertical-align: middle;\n",
       "    }\n",
       "\n",
       "    .dataframe tbody tr th {\n",
       "        vertical-align: top;\n",
       "    }\n",
       "\n",
       "    .dataframe thead th {\n",
       "        text-align: right;\n",
       "    }\n",
       "</style>\n",
       "<table border=\"1\" class=\"dataframe\">\n",
       "  <thead>\n",
       "    <tr style=\"text-align: right;\">\n",
       "      <th></th>\n",
       "      <th>v1</th>\n",
       "      <th>v2</th>\n",
       "    </tr>\n",
       "  </thead>\n",
       "  <tbody>\n",
       "    <tr>\n",
       "      <th>2627</th>\n",
       "      <td>ham</td>\n",
       "      <td>I know I'm lacking on most of this particular ...</td>\n",
       "    </tr>\n",
       "    <tr>\n",
       "      <th>1194</th>\n",
       "      <td>ham</td>\n",
       "      <td>Ok... C ya...</td>\n",
       "    </tr>\n",
       "    <tr>\n",
       "      <th>151</th>\n",
       "      <td>ham</td>\n",
       "      <td>Yup i thk cine is better cos no need 2 go down...</td>\n",
       "    </tr>\n",
       "    <tr>\n",
       "      <th>3646</th>\n",
       "      <td>ham</td>\n",
       "      <td>Hey babe, my friend had to cancel, still up fo...</td>\n",
       "    </tr>\n",
       "    <tr>\n",
       "      <th>249</th>\n",
       "      <td>spam</td>\n",
       "      <td>Congratulations ur awarded 500 of CD vouchers ...</td>\n",
       "    </tr>\n",
       "  </tbody>\n",
       "</table>\n",
       "</div>"
      ],
      "text/plain": [
       "        v1                                                 v2\n",
       "2627   ham  I know I'm lacking on most of this particular ...\n",
       "1194   ham                                      Ok... C ya...\n",
       "151    ham  Yup i thk cine is better cos no need 2 go down...\n",
       "3646   ham  Hey babe, my friend had to cancel, still up fo...\n",
       "249   spam  Congratulations ur awarded 500 of CD vouchers ..."
      ]
     },
     "execution_count": 6,
     "metadata": {},
     "output_type": "execute_result"
    }
   ],
   "source": [
    "df = df.drop(['Unnamed: 4'],axis = 1)\n",
    "df.sample(5)"
   ]
  },
  {
   "cell_type": "markdown",
   "id": "serial-zambia",
   "metadata": {},
   "source": [
    "### changing column names \n"
   ]
  },
  {
   "cell_type": "code",
   "execution_count": 7,
   "id": "spectacular-practitioner",
   "metadata": {},
   "outputs": [],
   "source": [
    "df = df.rename(columns = {\"v1\":'target' , 'v2':'text'})"
   ]
  },
  {
   "cell_type": "code",
   "execution_count": 8,
   "id": "employed-policy",
   "metadata": {},
   "outputs": [
    {
     "data": {
      "text/html": [
       "<div>\n",
       "<style scoped>\n",
       "    .dataframe tbody tr th:only-of-type {\n",
       "        vertical-align: middle;\n",
       "    }\n",
       "\n",
       "    .dataframe tbody tr th {\n",
       "        vertical-align: top;\n",
       "    }\n",
       "\n",
       "    .dataframe thead th {\n",
       "        text-align: right;\n",
       "    }\n",
       "</style>\n",
       "<table border=\"1\" class=\"dataframe\">\n",
       "  <thead>\n",
       "    <tr style=\"text-align: right;\">\n",
       "      <th></th>\n",
       "      <th>target</th>\n",
       "      <th>text</th>\n",
       "    </tr>\n",
       "  </thead>\n",
       "  <tbody>\n",
       "    <tr>\n",
       "      <th>1507</th>\n",
       "      <td>ham</td>\n",
       "      <td>Wen ur lovable bcums angry wid u, dnt take it ...</td>\n",
       "    </tr>\n",
       "    <tr>\n",
       "      <th>5085</th>\n",
       "      <td>ham</td>\n",
       "      <td>Sorry i missed your call. Can you please call ...</td>\n",
       "    </tr>\n",
       "    <tr>\n",
       "      <th>4481</th>\n",
       "      <td>ham</td>\n",
       "      <td>What do u reckon as need 2 arrange transport i...</td>\n",
       "    </tr>\n",
       "    <tr>\n",
       "      <th>5448</th>\n",
       "      <td>ham</td>\n",
       "      <td>aight we can pick some up, you open before ton...</td>\n",
       "    </tr>\n",
       "    <tr>\n",
       "      <th>1934</th>\n",
       "      <td>ham</td>\n",
       "      <td>Hope you are having a great day.</td>\n",
       "    </tr>\n",
       "  </tbody>\n",
       "</table>\n",
       "</div>"
      ],
      "text/plain": [
       "     target                                               text\n",
       "1507    ham  Wen ur lovable bcums angry wid u, dnt take it ...\n",
       "5085    ham  Sorry i missed your call. Can you please call ...\n",
       "4481    ham  What do u reckon as need 2 arrange transport i...\n",
       "5448    ham  aight we can pick some up, you open before ton...\n",
       "1934    ham                   Hope you are having a great day."
      ]
     },
     "execution_count": 8,
     "metadata": {},
     "output_type": "execute_result"
    }
   ],
   "source": [
    "df.sample(5)"
   ]
  },
  {
   "cell_type": "markdown",
   "id": "significant-second",
   "metadata": {},
   "source": [
    "### EDA Part"
   ]
  },
  {
   "cell_type": "code",
   "execution_count": 9,
   "id": "collective-viking",
   "metadata": {},
   "outputs": [],
   "source": [
    "import warnings \n",
    "warnings.filterwarnings(\"ignore\")"
   ]
  },
  {
   "cell_type": "code",
   "execution_count": 10,
   "id": "satellite-pasta",
   "metadata": {},
   "outputs": [
    {
     "data": {
      "image/png": "[encoded data removed]",
      "text/plain": [
       "<Figure size 432x288 with 1 Axes>"
      ]
     },
     "metadata": {
      "needs_background": "light"
     },
     "output_type": "display_data"
    }
   ],
   "source": [
    "sns.countplot(df['target'])\n",
    "plt.show()"
   ]
  },
  {
   "cell_type": "code",
   "execution_count": 11,
   "id": "massive-religious",
   "metadata": {},
   "outputs": [
    {
     "data": {
      "text/plain": [
       "<AxesSubplot:ylabel='target'>"
      ]
     },
     "execution_count": 11,
     "metadata": {},
     "output_type": "execute_result"
    },
    {
     "data": {
      "image/png": "[encoded data removed]",
      "text/plain": [
       "<Figure size 504x504 with 1 Axes>"
      ]
     },
     "metadata": {},
     "output_type": "display_data"
    }
   ],
   "source": [
    "plt.figure(figsize = (7,7))\n",
    "df['target'].value_counts().plot(kind = 'pie',autopct = '%1.1f%%')"
   ]
  },
  {
   "cell_type": "markdown",
   "id": "appropriate-conservative",
   "metadata": {},
   "source": [
    "#### Only Spam data "
   ]
  },
  {
   "cell_type": "code",
   "execution_count": 12,
   "id": "wound-queen",
   "metadata": {},
   "outputs": [
    {
     "data": {
      "text/plain": [
       "ham     4825\n",
       "spam     747\n",
       "Name: target, dtype: int64"
      ]
     },
     "execution_count": 12,
     "metadata": {},
     "output_type": "execute_result"
    }
   ],
   "source": [
    "df['target'].value_counts()"
   ]
  },
  {
   "cell_type": "code",
   "execution_count": 13,
   "id": "historical-inspection",
   "metadata": {},
   "outputs": [
    {
     "data": {
      "text/plain": [
       "400     FREE RINGTONE text FIRST to 87131 for a poly o...\n",
       "67      Urgent UR awarded a complimentary trip to Euro...\n",
       "1713    Hard LIVE 121 chat just 60p/min. Choose your g...\n",
       "1128    Ur HMV Quiz cash-balance is currently �500 - t...\n",
       "3546    Rock yr chik. Get 100's of filthy films &XXX p...\n",
       "Name: text, dtype: object"
      ]
     },
     "execution_count": 13,
     "metadata": {},
     "output_type": "execute_result"
    }
   ],
   "source": [
    "spam = df.loc[df['target'] == 'spam']\n",
    "spam['text'].sample(5)"
   ]
  },
  {
   "cell_type": "markdown",
   "id": "cognitive-lawsuit",
   "metadata": {},
   "source": [
    "### only ham data "
   ]
  },
  {
   "cell_type": "code",
   "execution_count": 14,
   "id": "peripheral-parking",
   "metadata": {},
   "outputs": [
    {
     "data": {
      "text/plain": [
       "753                       When did you get to the library\n",
       "2521                               Sorry, I'll call later\n",
       "1905    There're some people by mu, I'm at the table b...\n",
       "3447    Its  &lt;#&gt; k here oh. Should i send home f...\n",
       "4093                             how are you? I miss you!\n",
       "Name: text, dtype: object"
      ]
     },
     "execution_count": 14,
     "metadata": {},
     "output_type": "execute_result"
    }
   ],
   "source": [
    "ham = df.loc[df['target'] == 'ham']\n",
    "ham['text'].sample(5)"
   ]
  },
  {
   "cell_type": "markdown",
   "id": "differential-politics",
   "metadata": {},
   "source": [
    "### Preprocessing "
   ]
  },
  {
   "cell_type": "code",
   "execution_count": 15,
   "id": "norwegian-scientist",
   "metadata": {},
   "outputs": [
    {
     "data": {
      "text/plain": [
       "5572"
      ]
     },
     "execution_count": 15,
     "metadata": {},
     "output_type": "execute_result"
    }
   ],
   "source": [
    "len(df)"
   ]
  },
  {
   "cell_type": "code",
   "execution_count": 16,
   "id": "fiscal-devices",
   "metadata": {},
   "outputs": [],
   "source": [
    "import nltk\n",
    "import sklearn "
   ]
  },
  {
   "cell_type": "code",
   "execution_count": 17,
   "id": "taken-eclipse",
   "metadata": {},
   "outputs": [],
   "source": [
    "from nltk.tokenize import word_tokenize , sent_tokenize\n",
    "from nltk.corpus import stopwords\n",
    "from nltk.stem import PorterStemmer,WordNetLemmatizer\n",
    "from sklearn.model_selection import train_test_split"
   ]
  },
  {
   "cell_type": "code",
   "execution_count": 18,
   "id": "identified-satisfaction",
   "metadata": {},
   "outputs": [],
   "source": [
    "stemming_var = PorterStemmer()"
   ]
  },
  {
   "cell_type": "code",
   "execution_count": 19,
   "id": "metric-minority",
   "metadata": {},
   "outputs": [
    {
     "name": "stderr",
     "output_type": "stream",
     "text": [
      "[nltk_data] Downloading package wordnet to\n",
      "[nltk_data]     C:\\Users\\korla\\AppData\\Roaming\\nltk_data...\n",
      "[nltk_data]   Package wordnet is already up-to-date!\n"
     ]
    },
    {
     "data": {
      "text/plain": [
       "True"
      ]
     },
     "execution_count": 19,
     "metadata": {},
     "output_type": "execute_result"
    }
   ],
   "source": [
    "nltk.download('wordnet')"
   ]
  },
  {
   "cell_type": "code",
   "execution_count": 20,
   "id": "remarkable-picnic",
   "metadata": {},
   "outputs": [],
   "source": [
    "Lemmatization_var = WordNetLemmatizer()"
   ]
  },
  {
   "cell_type": "code",
   "execution_count": 21,
   "id": "infrared-instruction",
   "metadata": {},
   "outputs": [
    {
     "name": "stdout",
     "output_type": "stream",
     "text": [
      "['i', 'me', 'my', 'myself', 'we', 'our', 'ours', 'ourselves', 'you', \"you're\", \"you've\", \"you'll\", \"you'd\", 'your', 'yours', 'yourself', 'yourselves', 'he', 'him', 'his', 'himself', 'she', \"she's\", 'her', 'hers', 'herself', 'it', \"it's\", 'its', 'itself', 'they', 'them', 'their', 'theirs', 'themselves', 'what', 'which', 'who', 'whom', 'this', 'that', \"that'll\", 'these', 'those', 'am', 'is', 'are', 'was', 'were', 'be', 'been', 'being', 'have', 'has', 'had', 'having', 'do', 'does', 'did', 'doing', 'a', 'an', 'the', 'and', 'but', 'if', 'or', 'because', 'as', 'until', 'while', 'of', 'at', 'by', 'for', 'with', 'about', 'against', 'between', 'into', 'through', 'during', 'before', 'after', 'above', 'below', 'to', 'from', 'up', 'down', 'in', 'out', 'on', 'off', 'over', 'under', 'again', 'further', 'then', 'once', 'here', 'there', 'when', 'where', 'why', 'how', 'all', 'any', 'both', 'each', 'few', 'more', 'most', 'other', 'some', 'such', 'no', 'nor', 'not', 'only', 'own', 'same', 'so', 'than', 'too', 'very', 's', 't', 'can', 'will', 'just', 'don', \"don't\", 'should', \"should've\", 'now', 'd', 'll', 'm', 'o', 're', 've', 'y', 'ain', 'aren', \"aren't\", 'couldn', \"couldn't\", 'didn', \"didn't\", 'doesn', \"doesn't\", 'hadn', \"hadn't\", 'hasn', \"hasn't\", 'haven', \"haven't\", 'isn', \"isn't\", 'ma', 'mightn', \"mightn't\", 'mustn', \"mustn't\", 'needn', \"needn't\", 'shan', \"shan't\", 'shouldn', \"shouldn't\", 'wasn', \"wasn't\", 'weren', \"weren't\", 'won', \"won't\", 'wouldn', \"wouldn't\"]\n"
     ]
    }
   ],
   "source": [
    "print(stopwords.words('english'))"
   ]
  },
  {
   "cell_type": "code",
   "execution_count": 22,
   "id": "appropriate-executive",
   "metadata": {},
   "outputs": [],
   "source": [
    "import re \n",
    "cleaned_data = []\n",
    "for i in range(len(df)):\n",
    "    result = re.sub(\"[^a-zA-Z]\",' ',df['text'][i])\n",
    "    result = result.lower()\n",
    "    result = result.split()\n",
    "    result = [Lemmatization_var.lemmatize(word)  for word in result if not word in stopwords.words(\"english\")]\n",
    "    result = ' '.join(result)\n",
    "    cleaned_data.append(result)\n",
    "    "
   ]
  },
  {
   "cell_type": "code",
   "execution_count": 23,
   "id": "applicable-hunger",
   "metadata": {},
   "outputs": [
    {
     "data": {
      "text/plain": [
       "'go jurong point crazy available bugis n great world la e buffet cine got amore wat'"
      ]
     },
     "execution_count": 23,
     "metadata": {},
     "output_type": "execute_result"
    }
   ],
   "source": [
    "cleaned_data[0]"
   ]
  },
  {
   "cell_type": "code",
   "execution_count": 24,
   "id": "posted-baptist",
   "metadata": {},
   "outputs": [],
   "source": [
    "df['cleaned_data'] = cleaned_data"
   ]
  },
  {
   "cell_type": "code",
   "execution_count": 25,
   "id": "bound-bankruptcy",
   "metadata": {},
   "outputs": [
    {
     "data": {
      "text/html": [
       "<div>\n",
       "<style scoped>\n",
       "    .dataframe tbody tr th:only-of-type {\n",
       "        vertical-align: middle;\n",
       "    }\n",
       "\n",
       "    .dataframe tbody tr th {\n",
       "        vertical-align: top;\n",
       "    }\n",
       "\n",
       "    .dataframe thead th {\n",
       "        text-align: right;\n",
       "    }\n",
       "</style>\n",
       "<table border=\"1\" class=\"dataframe\">\n",
       "  <thead>\n",
       "    <tr style=\"text-align: right;\">\n",
       "      <th></th>\n",
       "      <th>target</th>\n",
       "      <th>text</th>\n",
       "      <th>cleaned_data</th>\n",
       "    </tr>\n",
       "  </thead>\n",
       "  <tbody>\n",
       "    <tr>\n",
       "      <th>0</th>\n",
       "      <td>ham</td>\n",
       "      <td>Go until jurong point, crazy.. Available only ...</td>\n",
       "      <td>go jurong point crazy available bugis n great ...</td>\n",
       "    </tr>\n",
       "    <tr>\n",
       "      <th>1</th>\n",
       "      <td>ham</td>\n",
       "      <td>Ok lar... Joking wif u oni...</td>\n",
       "      <td>ok lar joking wif u oni</td>\n",
       "    </tr>\n",
       "    <tr>\n",
       "      <th>2</th>\n",
       "      <td>spam</td>\n",
       "      <td>Free entry in 2 a wkly comp to win FA Cup fina...</td>\n",
       "      <td>free entry wkly comp win fa cup final tkts st ...</td>\n",
       "    </tr>\n",
       "    <tr>\n",
       "      <th>3</th>\n",
       "      <td>ham</td>\n",
       "      <td>U dun say so early hor... U c already then say...</td>\n",
       "      <td>u dun say early hor u c already say</td>\n",
       "    </tr>\n",
       "    <tr>\n",
       "      <th>4</th>\n",
       "      <td>ham</td>\n",
       "      <td>Nah I don't think he goes to usf, he lives aro...</td>\n",
       "      <td>nah think go usf life around though</td>\n",
       "    </tr>\n",
       "  </tbody>\n",
       "</table>\n",
       "</div>"
      ],
      "text/plain": [
       "  target                                               text  \\\n",
       "0    ham  Go until jurong point, crazy.. Available only ...   \n",
       "1    ham                      Ok lar... Joking wif u oni...   \n",
       "2   spam  Free entry in 2 a wkly comp to win FA Cup fina...   \n",
       "3    ham  U dun say so early hor... U c already then say...   \n",
       "4    ham  Nah I don't think he goes to usf, he lives aro...   \n",
       "\n",
       "                                        cleaned_data  \n",
       "0  go jurong point crazy available bugis n great ...  \n",
       "1                            ok lar joking wif u oni  \n",
       "2  free entry wkly comp win fa cup final tkts st ...  \n",
       "3                u dun say early hor u c already say  \n",
       "4                nah think go usf life around though  "
      ]
     },
     "execution_count": 25,
     "metadata": {},
     "output_type": "execute_result"
    }
   ],
   "source": [
    "df.head()"
   ]
  },
  {
   "cell_type": "code",
   "execution_count": 26,
   "id": "finished-marketing",
   "metadata": {},
   "outputs": [],
   "source": [
    "df = df.drop(['text'],axis = 1)"
   ]
  },
  {
   "cell_type": "code",
   "execution_count": 27,
   "id": "naked-court",
   "metadata": {},
   "outputs": [
    {
     "data": {
      "text/plain": [
       "Index(['target', 'cleaned_data'], dtype='object')"
      ]
     },
     "execution_count": 27,
     "metadata": {},
     "output_type": "execute_result"
    }
   ],
   "source": [
    "df.columns"
   ]
  },
  {
   "cell_type": "code",
   "execution_count": 28,
   "id": "satisfactory-february",
   "metadata": {},
   "outputs": [],
   "source": [
    "df['target'] = df['target'].map({'ham':0 , 'spam':1}).astype(int)"
   ]
  },
  {
   "cell_type": "code",
   "execution_count": 29,
   "id": "stylish-junction",
   "metadata": {},
   "outputs": [
    {
     "data": {
      "text/plain": [
       "0    4825\n",
       "1     747\n",
       "Name: target, dtype: int64"
      ]
     },
     "execution_count": 29,
     "metadata": {},
     "output_type": "execute_result"
    }
   ],
   "source": [
    "df.target.value_counts()"
   ]
  },
  {
   "cell_type": "code",
   "execution_count": 30,
   "id": "through-afternoon",
   "metadata": {},
   "outputs": [],
   "source": [
    "from sklearn.feature_extraction.text import CountVectorizer"
   ]
  },
  {
   "cell_type": "code",
   "execution_count": 31,
   "id": "skilled-edward",
   "metadata": {},
   "outputs": [],
   "source": [
    "Co = CountVectorizer()"
   ]
  },
  {
   "cell_type": "code",
   "execution_count": 32,
   "id": "third-seven",
   "metadata": {},
   "outputs": [],
   "source": [
    "X = df['cleaned_data']\n",
    "y = df['target']"
   ]
  },
  {
   "cell_type": "code",
   "execution_count": 33,
   "id": "neural-comparison",
   "metadata": {},
   "outputs": [
    {
     "data": {
      "text/plain": [
       "0    go jurong point crazy available bugis n great ...\n",
       "1                              ok lar joking wif u oni\n",
       "2    free entry wkly comp win fa cup final tkts st ...\n",
       "3                  u dun say early hor u c already say\n",
       "4                  nah think go usf life around though\n",
       "Name: cleaned_data, dtype: object"
      ]
     },
     "execution_count": 33,
     "metadata": {},
     "output_type": "execute_result"
    }
   ],
   "source": [
    "X.head()"
   ]
  },
  {
   "cell_type": "code",
   "execution_count": 34,
   "id": "standing-chicken",
   "metadata": {},
   "outputs": [
    {
     "data": {
      "text/plain": [
       "0    0\n",
       "1    0\n",
       "2    1\n",
       "3    0\n",
       "4    0\n",
       "Name: target, dtype: int32"
      ]
     },
     "execution_count": 34,
     "metadata": {},
     "output_type": "execute_result"
    }
   ],
   "source": [
    "y.head()"
   ]
  },
  {
   "cell_type": "code",
   "execution_count": 35,
   "id": "fuzzy-barbados",
   "metadata": {},
   "outputs": [],
   "source": [
    "X_train , X_test , y_train , y_test = train_test_split(X,y,test_size= 0.33 , random_state = 42)"
   ]
  },
  {
   "cell_type": "code",
   "execution_count": 36,
   "id": "processed-difference",
   "metadata": {},
   "outputs": [
    {
     "data": {
      "text/plain": [
       "3235    aight text back mu swing need somebody get door\n",
       "945                          cant wait see photo useful\n",
       "5319                            kothi print marandratha\n",
       "5528                           effect irritation ignore\n",
       "247                           kallis wont bat nd inning\n",
       "Name: cleaned_data, dtype: object"
      ]
     },
     "execution_count": 36,
     "metadata": {},
     "output_type": "execute_result"
    }
   ],
   "source": [
    "X_train.head()"
   ]
  },
  {
   "cell_type": "code",
   "execution_count": 37,
   "id": "planned-inspection",
   "metadata": {},
   "outputs": [],
   "source": [
    "X_train = Co.fit_transform(X_train)"
   ]
  },
  {
   "cell_type": "code",
   "execution_count": 38,
   "id": "distinct-judges",
   "metadata": {},
   "outputs": [
    {
     "data": {
      "text/plain": [
       "array([[0, 0, 0, ..., 0, 0, 0],\n",
       "       [0, 0, 0, ..., 0, 0, 0],\n",
       "       [0, 0, 0, ..., 0, 0, 0],\n",
       "       ...,\n",
       "       [0, 0, 0, ..., 0, 0, 0],\n",
       "       [0, 0, 0, ..., 0, 0, 0],\n",
       "       [0, 0, 0, ..., 0, 0, 0]], dtype=int64)"
      ]
     },
     "execution_count": 38,
     "metadata": {},
     "output_type": "execute_result"
    }
   ],
   "source": [
    "X_train.toarray()"
   ]
  },
  {
   "cell_type": "code",
   "execution_count": 39,
   "id": "proprietary-damage",
   "metadata": {},
   "outputs": [
    {
     "data": {
      "text/plain": [
       "(3733, 5728)"
      ]
     },
     "execution_count": 39,
     "metadata": {},
     "output_type": "execute_result"
    }
   ],
   "source": [
    "X_train.shape"
   ]
  },
  {
   "cell_type": "code",
   "execution_count": 40,
   "id": "german-fireplace",
   "metadata": {},
   "outputs": [
    {
     "data": {
      "text/plain": [
       "<1x5728 sparse matrix of type '<class 'numpy.int64'>'\n",
       "\twith 9 stored elements in Compressed Sparse Row format>"
      ]
     },
     "execution_count": 40,
     "metadata": {},
     "output_type": "execute_result"
    }
   ],
   "source": [
    "X_train[0]"
   ]
  },
  {
   "cell_type": "code",
   "execution_count": 41,
   "id": "allied-mainstream",
   "metadata": {},
   "outputs": [],
   "source": [
    "X_test = Co.transform(X_test)"
   ]
  },
  {
   "cell_type": "code",
   "execution_count": 42,
   "id": "appropriate-qatar",
   "metadata": {},
   "outputs": [
    {
     "data": {
      "text/plain": [
       "array([[0, 0, 0, ..., 0, 0, 0],\n",
       "       [0, 0, 0, ..., 0, 0, 0],\n",
       "       [0, 0, 0, ..., 0, 0, 0],\n",
       "       ...,\n",
       "       [0, 0, 0, ..., 0, 0, 0],\n",
       "       [0, 0, 0, ..., 0, 0, 0],\n",
       "       [0, 0, 0, ..., 0, 0, 0]], dtype=int64)"
      ]
     },
     "execution_count": 42,
     "metadata": {},
     "output_type": "execute_result"
    }
   ],
   "source": [
    "X_test.toarray()"
   ]
  },
  {
   "cell_type": "code",
   "execution_count": 43,
   "id": "early-balloon",
   "metadata": {},
   "outputs": [
    {
     "data": {
      "text/plain": [
       "(1839, 5728)"
      ]
     },
     "execution_count": 43,
     "metadata": {},
     "output_type": "execute_result"
    }
   ],
   "source": [
    "X_test.shape"
   ]
  },
  {
   "cell_type": "code",
   "execution_count": 44,
   "id": "indirect-screw",
   "metadata": {},
   "outputs": [],
   "source": [
    "from sklearn.naive_bayes import MultinomialNB"
   ]
  },
  {
   "cell_type": "code",
   "execution_count": 45,
   "id": "nominated-bowling",
   "metadata": {},
   "outputs": [],
   "source": [
    "ml = MultinomialNB()"
   ]
  },
  {
   "cell_type": "code",
   "execution_count": 46,
   "id": "careful-exhibition",
   "metadata": {},
   "outputs": [
    {
     "data": {
      "text/plain": [
       "MultinomialNB()"
      ]
     },
     "execution_count": 46,
     "metadata": {},
     "output_type": "execute_result"
    }
   ],
   "source": [
    "ml.fit(X_train,y_train)"
   ]
  },
  {
   "cell_type": "code",
   "execution_count": 47,
   "id": "magnetic-suspension",
   "metadata": {},
   "outputs": [],
   "source": [
    "from sklearn.metrics import accuracy_score,classification_report,confusion_matrix"
   ]
  },
  {
   "cell_type": "code",
   "execution_count": 48,
   "id": "false-dublin",
   "metadata": {},
   "outputs": [
    {
     "data": {
      "text/plain": [
       "0.9924993302973479"
      ]
     },
     "execution_count": 48,
     "metadata": {},
     "output_type": "execute_result"
    }
   ],
   "source": [
    "ml.score(X_train,y_train)"
   ]
  },
  {
   "cell_type": "code",
   "execution_count": 49,
   "id": "solid-enzyme",
   "metadata": {},
   "outputs": [
    {
     "data": {
      "text/plain": [
       "0.9820554649265906"
      ]
     },
     "execution_count": 49,
     "metadata": {},
     "output_type": "execute_result"
    }
   ],
   "source": [
    "ml.score(X_test,y_test)"
   ]
  },
  {
   "cell_type": "markdown",
   "id": "moderate-advantage",
   "metadata": {},
   "source": [
    "### Balancing the data "
   ]
  },
  {
   "cell_type": "code",
   "execution_count": 50,
   "id": "backed-genealogy",
   "metadata": {},
   "outputs": [
    {
     "data": {
      "text/html": [
       "<div>\n",
       "<style scoped>\n",
       "    .dataframe tbody tr th:only-of-type {\n",
       "        vertical-align: middle;\n",
       "    }\n",
       "\n",
       "    .dataframe tbody tr th {\n",
       "        vertical-align: top;\n",
       "    }\n",
       "\n",
       "    .dataframe thead th {\n",
       "        text-align: right;\n",
       "    }\n",
       "</style>\n",
       "<table border=\"1\" class=\"dataframe\">\n",
       "  <thead>\n",
       "    <tr style=\"text-align: right;\">\n",
       "      <th></th>\n",
       "      <th>target</th>\n",
       "      <th>cleaned_data</th>\n",
       "    </tr>\n",
       "  </thead>\n",
       "  <tbody>\n",
       "    <tr>\n",
       "      <th>0</th>\n",
       "      <td>0</td>\n",
       "      <td>go jurong point crazy available bugis n great ...</td>\n",
       "    </tr>\n",
       "    <tr>\n",
       "      <th>1</th>\n",
       "      <td>0</td>\n",
       "      <td>ok lar joking wif u oni</td>\n",
       "    </tr>\n",
       "    <tr>\n",
       "      <th>2</th>\n",
       "      <td>1</td>\n",
       "      <td>free entry wkly comp win fa cup final tkts st ...</td>\n",
       "    </tr>\n",
       "    <tr>\n",
       "      <th>3</th>\n",
       "      <td>0</td>\n",
       "      <td>u dun say early hor u c already say</td>\n",
       "    </tr>\n",
       "    <tr>\n",
       "      <th>4</th>\n",
       "      <td>0</td>\n",
       "      <td>nah think go usf life around though</td>\n",
       "    </tr>\n",
       "  </tbody>\n",
       "</table>\n",
       "</div>"
      ],
      "text/plain": [
       "   target                                       cleaned_data\n",
       "0       0  go jurong point crazy available bugis n great ...\n",
       "1       0                            ok lar joking wif u oni\n",
       "2       1  free entry wkly comp win fa cup final tkts st ...\n",
       "3       0                u dun say early hor u c already say\n",
       "4       0                nah think go usf life around though"
      ]
     },
     "execution_count": 50,
     "metadata": {},
     "output_type": "execute_result"
    }
   ],
   "source": [
    "df.head()"
   ]
  },
  {
   "cell_type": "markdown",
   "id": "silver-syndication",
   "metadata": {},
   "source": [
    "### Downsampling "
   ]
  },
  {
   "cell_type": "code",
   "execution_count": 51,
   "id": "divine-membrane",
   "metadata": {},
   "outputs": [],
   "source": [
    "from imblearn.under_sampling import NearMiss"
   ]
  },
  {
   "cell_type": "code",
   "execution_count": 62,
   "id": "suspected-headquarters",
   "metadata": {},
   "outputs": [
    {
     "name": "stdout",
     "output_type": "stream",
     "text": [
      "Labels count for ham 0 = 3238 \n",
      "Labels count for spam 1 = 495 \n",
      "\n",
      "Labels count for test ham 0 = 1587 \n",
      "Labels count for test spam 1 = 252 \n",
      "\n",
      "Labels count after for train ham 0 = 495 \n",
      "Labels count after for train spam 1 = 495 \n",
      "\n",
      "Labels count after for test ham 0 = 252 \n",
      "Labels count after for test spam 1 = 252 \n"
     ]
    }
   ],
   "source": [
    "print(\"Labels count for ham 0 = {} \".format(sum(y_train == 0)))\n",
    "print(\"Labels count for spam 1 = {} \".format(sum(y_train == 1)))\n",
    "\n",
    "print()\n",
    "print(\"Labels count for test ham 0 = {} \".format(sum(y_test == 0)))\n",
    "print(\"Labels count for test spam 1 = {} \".format(sum(y_test == 1)))\n",
    "\n",
    "\n",
    "undersample = NearMiss(version=1, n_neighbors=3)\n",
    "\n",
    "X_train_res , y_train_res = undersample.fit_resample(X_train,y_train)\n",
    "X_test_res , y_test_res = undersample.fit_resample(X_test,y_test)\n",
    "\n",
    "print()\n",
    "\n",
    "print(\"Labels count after for train ham 0 = {} \".format(sum(y_train_res == 0)))\n",
    "print(\"Labels count after for train spam 1 = {} \".format(sum(y_train_res == 1)))\n",
    "\n",
    "print()\n",
    "print(\"Labels count after for test ham 0 = {} \".format(sum(y_test_res == 0)))\n",
    "print(\"Labels count after for test spam 1 = {} \".format(sum(y_test_res == 1)))\n"
   ]
  },
  {
   "cell_type": "code",
   "execution_count": 63,
   "id": "incorporate-howard",
   "metadata": {},
   "outputs": [
    {
     "data": {
      "text/plain": [
       "0.9434343434343434"
      ]
     },
     "execution_count": 63,
     "metadata": {},
     "output_type": "execute_result"
    }
   ],
   "source": [
    "mt = MultinomialNB()\n",
    "mt.fit(X_train_res,y_train_res)\n",
    "mt.score(X_train_res,y_train_res)"
   ]
  },
  {
   "cell_type": "code",
   "execution_count": 64,
   "id": "verified-gauge",
   "metadata": {},
   "outputs": [
    {
     "data": {
      "text/plain": [
       "0.8670634920634921"
      ]
     },
     "execution_count": 64,
     "metadata": {},
     "output_type": "execute_result"
    }
   ],
   "source": [
    "mt = MultinomialNB()\n",
    "mt.fit(X_train_res,y_train_res)\n",
    "mt.score(X_test_res,y_test_res)"
   ]
  },
  {
   "cell_type": "markdown",
   "id": "boxed-teaching",
   "metadata": {},
   "source": [
    "### Upsampling "
   ]
  },
  {
   "cell_type": "code",
   "execution_count": 67,
   "id": "printable-beauty",
   "metadata": {},
   "outputs": [
    {
     "name": "stdout",
     "output_type": "stream",
     "text": [
      "Labels count for ham 0 = 3238 \n",
      "Labels count for spam 1 = 495 \n",
      "\n",
      "Labels count after for train ham 0 = 3238 \n",
      "Labels count after for train spam 1 = 3238 \n",
      "\n",
      "Labels count after for test ham 0 = 1587\n",
      "Labels count after for test spam 1 = 1587\n"
     ]
    }
   ],
   "source": [
    "print(\"Labels count for ham 0 = {} \".format(sum(y_train == 0))) \n",
    "print(\"Labels count for spam 1 = {} \".format(sum(y_train == 1))) \n",
    "  \n",
    "print()\n",
    "\n",
    "\n",
    "from imblearn.over_sampling import SMOTE \n",
    "\n",
    "sm = SMOTE(random_state = 2) \n",
    "X_train_up, y_train_up = sm.fit_resample(X_train, y_train)  \n",
    "  \n",
    "print(\"Labels count after for train ham 0 = {} \".format(sum(y_train_up == 0))) \n",
    "print(\"Labels count after for train spam 1 = {} \".format(sum(y_train_up == 1))) \n",
    "\n",
    "print()\n",
    "X_test_up, y_test_up = sm.fit_resample(X_test, y_test)\n",
    "\n",
    "print(\"Labels count after for test ham 0 = {}\".format(sum(y_test_up == 0))) \n",
    "print(\"Labels count after for test spam 1 = {}\".format(sum(y_test_up == 1))) "
   ]
  },
  {
   "cell_type": "code",
   "execution_count": 69,
   "id": "unnecessary-framework",
   "metadata": {},
   "outputs": [],
   "source": [
    "from sklearn.naive_bayes import MultinomialNB\n",
    "from sklearn.linear_model import LogisticRegression\n",
    "from sklearn.tree import DecisionTreeClassifier\n",
    "from sklearn.ensemble import RandomForestClassifier\n",
    "from sklearn.svm import SVC"
   ]
  },
  {
   "cell_type": "code",
   "execution_count": 72,
   "id": "derived-principal",
   "metadata": {},
   "outputs": [
    {
     "data": {
      "text/plain": [
       "<6476x5728 sparse matrix of type '<class 'numpy.int64'>'\n",
       "\twith 75730 stored elements in Compressed Sparse Row format>"
      ]
     },
     "execution_count": 72,
     "metadata": {},
     "output_type": "execute_result"
    }
   ],
   "source": [
    "X_train_up"
   ]
  },
  {
   "cell_type": "code",
   "execution_count": 99,
   "id": "fossil-arnold",
   "metadata": {},
   "outputs": [],
   "source": [
    "def svm(X_train_up,y_train_up,X_test_up,y_test_up):\n",
    "    svm = SVC(C=1.0,kernel='rbf')\n",
    "    svm.fit(X_train_up,y_train_up)\n",
    "    print(\"Train Accuracy_score = {} \".format(svm.score(X_train_up,y_train_up)))\n",
    "    print(\"Test Accuracy_score = {} \".format(svm.score(X_test_up,y_test_up)))\n",
    "    print()\n",
    "    print('---------- confusion matrix ------------')\n",
    "    y_train_up_pred = svm.predict(X_train_up)\n",
    "    y_test_up_pred = svm.predict(X_test_up)\n",
    "    print('Train confusion matrix = \\n ',confusion_matrix(y_train_up , y_train_up_pred))\n",
    "    print('test confusion matrix = \\n ',confusion_matrix(y_test_up , y_test_up_pred))\n",
    "    print()\n",
    "    print('----Classification Report -------')\n",
    "    print('Train = ',classification_report(y_train_up , y_train_up_pred))\n",
    "    print(\"Test = \",classification_report(y_test_up , y_test_up_pred))\n",
    "    "
   ]
  },
  {
   "cell_type": "code",
   "execution_count": 100,
   "id": "reliable-radio",
   "metadata": {},
   "outputs": [],
   "source": [
    "def RF(X_train_up,y_train_up,X_test_up,y_test_up):\n",
    "    rf = RandomForestClassifier()\n",
    "    rf.fit(X_train_up,y_train_up)\n",
    "    print(\"Train Accuracy_score = {} \".format(rf.score(X_train_up,y_train_up)))\n",
    "    print(\"Test Accuracy_score = {} \".format(rf.score(X_test_up,y_test_up)))\n",
    "    print()\n",
    "    print('---------- confusion matrix ------------')\n",
    "    y_train_up_pred = rf.predict(X_train_up)\n",
    "    y_test_up_pred = rf.predict(X_test_up)\n",
    "    print('Train confusion matrix = \\n',confusion_matrix(y_train_up , y_train_up_pred))\n",
    "    print('test confusion matrix =\\n ',confusion_matrix(y_test_up , y_test_up_pred))\n",
    "    print()\n",
    "    print('----Classification Report -------')\n",
    "    print('Train = ',classification_report(y_train_up , y_train_up_pred))\n",
    "    print(\"Test = \",classification_report(y_test_up , y_test_up_pred))"
   ]
  },
  {
   "cell_type": "code",
   "execution_count": 101,
   "id": "muslim-owner",
   "metadata": {},
   "outputs": [],
   "source": [
    "def DT(X_train_up,y_train_up,X_test_up,y_test_up):\n",
    "    dt = DecisionTreeClassifier()\n",
    "    dt.fit(X_train_up,y_train_up)\n",
    "    print(\"Train Accuracy_score = {} \".format(dt.score(X_train_up,y_train_up)))\n",
    "    print(\"Test Accuracy_score = {} \".format(dt.score(X_test_up,y_test_up)))\n",
    "    print()\n",
    "    print('---------- confusion matrix ------------')\n",
    "    y_train_up_pred = dt.predict(X_train_up)\n",
    "    y_test_up_pred = dt.predict(X_test_up)\n",
    "    print('Train confusion matrix = \\n',confusion_matrix(y_train_up , y_train_up_pred))\n",
    "    print('test confusion matrix = \\n',confusion_matrix(y_test_up , y_test_up_pred))\n",
    "    print()\n",
    "    print('----Classification Report -------')\n",
    "    print('Train = ',classification_report(y_train_up , y_train_up_pred))\n",
    "    print(\"Test = \",classification_report(y_test_up , y_test_up_pred))"
   ]
  },
  {
   "cell_type": "code",
   "execution_count": 102,
   "id": "focused-wilson",
   "metadata": {},
   "outputs": [],
   "source": [
    "def NB(X_train_up,y_train_up,X_test_up,y_test_up):\n",
    "    nb = MultinomialNB()\n",
    "    nb.fit(X_train_up,y_train_up)\n",
    "    print(\"Train Accuracy_score = {} \".format(nb.score(X_train_up,y_train_up)))\n",
    "    print(\"Test Accuracy_score = {} \".format(nb.score(X_test_up,y_test_up)))\n",
    "    print()\n",
    "    print('---------- confusion matrix ------------')\n",
    "    y_train_up_pred = nb.predict(X_train_up)\n",
    "    y_test_up_pred = nb.predict(X_test_up)\n",
    "    print('Train confusion matrix = \\n',confusion_matrix(y_train_up , y_train_up_pred))\n",
    "    print('test confusion matrix = \\n ',confusion_matrix(y_test_up , y_test_up_pred))\n",
    "    print()\n",
    "    print('----Classification Report -------')\n",
    "    print('Train = ',classification_report(y_train_up , y_train_up_pred))\n",
    "    print(\"Test = \",classification_report(y_test_up , y_test_up_pred))"
   ]
  },
  {
   "cell_type": "code",
   "execution_count": 103,
   "id": "found-uncertainty",
   "metadata": {},
   "outputs": [],
   "source": [
    "def LR(X_train_up,y_train_up,X_test_up,y_test_up):\n",
    "    lg = LogisticRegression()\n",
    "    lg.fit(X_train_up,y_train_up)\n",
    "    print(\"Train Accuracy_score = {} \".format(lg.score(X_train_up,y_train_up)))\n",
    "    print(\"Test Accuracy_score = {} \".format(lg.score(X_test_up,y_test_up)))\n",
    "    print()\n",
    "    print('---------- confusion matrix ------------')\n",
    "    y_train_up_pred = lg.predict(X_train_up)\n",
    "    y_test_up_pred = lg.predict(X_test_up)\n",
    "    print('Train confusion matrix = \\n',confusion_matrix(y_train_up , y_train_up_pred))\n",
    "    print('test confusion matrix = \\n',confusion_matrix(y_test_up , y_test_up_pred))\n",
    "    print()\n",
    "    print('----Classification Report -------')\n",
    "    print('Train = ',classification_report(y_train_up , y_train_up_pred))\n",
    "    print(\"Test = \",classification_report(y_test_up , y_test_up_pred))"
   ]
  },
  {
   "cell_type": "code",
   "execution_count": 104,
   "id": "approximate-howard",
   "metadata": {},
   "outputs": [],
   "source": [
    "def checking(X_train_up,y_train_up,X_test_up,y_test_up):\n",
    "    print('SVM')\n",
    "    svm(X_train_up,y_train_up,X_test_up,y_test_up)\n",
    "    print('*'*100)\n",
    "    print('Random Forest')\n",
    "    RF(X_train_up,y_train_up,X_test_up,y_test_up)\n",
    "    print('*'*100)\n",
    "    print('Decision Tree')\n",
    "    DT(X_train_up,y_train_up,X_test_up,y_test_up)\n",
    "    print('*'*100)\n",
    "    print('Naive Bayes')\n",
    "    NB(X_train_up,y_train_up,X_test_up,y_test_up)\n",
    "    print('*'*100)\n",
    "    print('Logistic Regression')\n",
    "    LR(X_train_up,y_train_up,X_test_up,y_test_up)\n",
    "    print('*'*100)\n",
    "    \n",
    "    \n",
    "    \n",
    "    "
   ]
  },
  {
   "cell_type": "code",
   "execution_count": 106,
   "id": "offensive-driver",
   "metadata": {},
   "outputs": [
    {
     "name": "stdout",
     "output_type": "stream",
     "text": [
      "SVM\n",
      "Train Accuracy_score = 0.9820877084620135 \n",
      "Test Accuracy_score = 0.921865154379332 \n",
      "\n",
      "---------- confusion matrix ------------\n",
      "Train confusion matrix = \n",
      "  [[3140   98]\n",
      " [  18 3220]]\n",
      "test confusion matrix = \n",
      "  [[1438  149]\n",
      " [  99 1488]]\n",
      "\n",
      "----Classification Report -------\n",
      "Train =                precision    recall  f1-score   support\n",
      "\n",
      "           0       0.99      0.97      0.98      3238\n",
      "           1       0.97      0.99      0.98      3238\n",
      "\n",
      "    accuracy                           0.98      6476\n",
      "   macro avg       0.98      0.98      0.98      6476\n",
      "weighted avg       0.98      0.98      0.98      6476\n",
      "\n",
      "Test =                precision    recall  f1-score   support\n",
      "\n",
      "           0       0.94      0.91      0.92      1587\n",
      "           1       0.91      0.94      0.92      1587\n",
      "\n",
      "    accuracy                           0.92      3174\n",
      "   macro avg       0.92      0.92      0.92      3174\n",
      "weighted avg       0.92      0.92      0.92      3174\n",
      "\n",
      "****************************************************************************************************\n",
      "Random Forest\n",
      "Train Accuracy_score = 0.9984558369363805 \n",
      "Test Accuracy_score = 0.926591052299937 \n",
      "\n",
      "---------- confusion matrix ------------\n",
      "Train confusion matrix = \n",
      " [[3228   10]\n",
      " [   0 3238]]\n",
      "test confusion matrix =\n",
      "  [[1394  193]\n",
      " [  40 1547]]\n",
      "\n",
      "----Classification Report -------\n",
      "Train =                precision    recall  f1-score   support\n",
      "\n",
      "           0       1.00      1.00      1.00      3238\n",
      "           1       1.00      1.00      1.00      3238\n",
      "\n",
      "    accuracy                           1.00      6476\n",
      "   macro avg       1.00      1.00      1.00      6476\n",
      "weighted avg       1.00      1.00      1.00      6476\n",
      "\n",
      "Test =                precision    recall  f1-score   support\n",
      "\n",
      "           0       0.97      0.88      0.92      1587\n",
      "           1       0.89      0.97      0.93      1587\n",
      "\n",
      "    accuracy                           0.93      3174\n",
      "   macro avg       0.93      0.93      0.93      3174\n",
      "weighted avg       0.93      0.93      0.93      3174\n",
      "\n",
      "****************************************************************************************************\n",
      "Decision Tree\n",
      "Train Accuracy_score = 0.9984558369363805 \n",
      "Test Accuracy_score = 0.9117832388153749 \n",
      "\n",
      "---------- confusion matrix ------------\n",
      "Train confusion matrix = \n",
      " [[3228   10]\n",
      " [   0 3238]]\n",
      "test confusion matrix = \n",
      " [[1350  237]\n",
      " [  43 1544]]\n",
      "\n",
      "----Classification Report -------\n",
      "Train =                precision    recall  f1-score   support\n",
      "\n",
      "           0       1.00      1.00      1.00      3238\n",
      "           1       1.00      1.00      1.00      3238\n",
      "\n",
      "    accuracy                           1.00      6476\n",
      "   macro avg       1.00      1.00      1.00      6476\n",
      "weighted avg       1.00      1.00      1.00      6476\n",
      "\n",
      "Test =                precision    recall  f1-score   support\n",
      "\n",
      "           0       0.97      0.85      0.91      1587\n",
      "           1       0.87      0.97      0.92      1587\n",
      "\n",
      "    accuracy                           0.91      3174\n",
      "   macro avg       0.92      0.91      0.91      3174\n",
      "weighted avg       0.92      0.91      0.91      3174\n",
      "\n",
      "****************************************************************************************************\n",
      "Naive Bayes\n",
      "Train Accuracy_score = 0.9163063619518221 \n",
      "Test Accuracy_score = 0.8216761184625079 \n",
      "\n",
      "---------- confusion matrix ------------\n",
      "Train confusion matrix = \n",
      " [[3177   61]\n",
      " [ 481 2757]]\n",
      "test confusion matrix = \n",
      "  [[1540   47]\n",
      " [ 519 1068]]\n",
      "\n",
      "----Classification Report -------\n",
      "Train =                precision    recall  f1-score   support\n",
      "\n",
      "           0       0.87      0.98      0.92      3238\n",
      "           1       0.98      0.85      0.91      3238\n",
      "\n",
      "    accuracy                           0.92      6476\n",
      "   macro avg       0.92      0.92      0.92      6476\n",
      "weighted avg       0.92      0.92      0.92      6476\n",
      "\n",
      "Test =                precision    recall  f1-score   support\n",
      "\n",
      "           0       0.75      0.97      0.84      1587\n",
      "           1       0.96      0.67      0.79      1587\n",
      "\n",
      "    accuracy                           0.82      3174\n",
      "   macro avg       0.85      0.82      0.82      3174\n",
      "weighted avg       0.85      0.82      0.82      3174\n",
      "\n",
      "****************************************************************************************************\n",
      "Logistic Regression\n",
      "Train Accuracy_score = 0.9879555281037677 \n",
      "Test Accuracy_score = 0.9464398235664776 \n",
      "\n",
      "---------- confusion matrix ------------\n",
      "Train confusion matrix = \n",
      " [[3174   64]\n",
      " [  14 3224]]\n",
      "test confusion matrix = \n",
      " [[1460  127]\n",
      " [  43 1544]]\n",
      "\n",
      "----Classification Report -------\n",
      "Train =                precision    recall  f1-score   support\n",
      "\n",
      "           0       1.00      0.98      0.99      3238\n",
      "           1       0.98      1.00      0.99      3238\n",
      "\n",
      "    accuracy                           0.99      6476\n",
      "   macro avg       0.99      0.99      0.99      6476\n",
      "weighted avg       0.99      0.99      0.99      6476\n",
      "\n",
      "Test =                precision    recall  f1-score   support\n",
      "\n",
      "           0       0.97      0.92      0.94      1587\n",
      "           1       0.92      0.97      0.95      1587\n",
      "\n",
      "    accuracy                           0.95      3174\n",
      "   macro avg       0.95      0.95      0.95      3174\n",
      "weighted avg       0.95      0.95      0.95      3174\n",
      "\n",
      "****************************************************************************************************\n"
     ]
    }
   ],
   "source": [
    "checking(X_train_up,y_train_up,X_test_up,y_test_up)"
   ]
  },
  {
   "cell_type": "markdown",
   "id": "headed-bedroom",
   "metadata": {},
   "source": [
    "#### Since Logistic Regression gives highest Accuracy we can procees with logistic Regression "
   ]
  },
  {
   "cell_type": "code",
   "execution_count": 107,
   "id": "mexican-checklist",
   "metadata": {},
   "outputs": [
    {
     "name": "stdout",
     "output_type": "stream",
     "text": [
      "Train Accuracy_score = 0.9879555281037677 \n",
      "Test Accuracy_score = 0.9464398235664776 \n",
      "\n",
      "---------- confusion matrix ------------\n",
      "Train confusion matrix = \n",
      " [[3174   64]\n",
      " [  14 3224]]\n",
      "test confusion matrix = \n",
      " [[1460  127]\n",
      " [  43 1544]]\n",
      "\n",
      "----Classification Report -------\n",
      "Train =                precision    recall  f1-score   support\n",
      "\n",
      "           0       1.00      0.98      0.99      3238\n",
      "           1       0.98      1.00      0.99      3238\n",
      "\n",
      "    accuracy                           0.99      6476\n",
      "   macro avg       0.99      0.99      0.99      6476\n",
      "weighted avg       0.99      0.99      0.99      6476\n",
      "\n",
      "Test =                precision    recall  f1-score   support\n",
      "\n",
      "           0       0.97      0.92      0.94      1587\n",
      "           1       0.92      0.97      0.95      1587\n",
      "\n",
      "    accuracy                           0.95      3174\n",
      "   macro avg       0.95      0.95      0.95      3174\n",
      "weighted avg       0.95      0.95      0.95      3174\n",
      "\n"
     ]
    }
   ],
   "source": [
    "lg = LogisticRegression()\n",
    "lg.fit(X_train_up,y_train_up)\n",
    "print(\"Train Accuracy_score = {} \".format(lg.score(X_train_up,y_train_up)))\n",
    "print(\"Test Accuracy_score = {} \".format(lg.score(X_test_up,y_test_up)))\n",
    "print()\n",
    "print('---------- confusion matrix ------------')\n",
    "y_train_up_pred = lg.predict(X_train_up)\n",
    "y_test_up_pred = lg.predict(X_test_up)\n",
    "print('Train confusion matrix = \\n',confusion_matrix(y_train_up , y_train_up_pred))\n",
    "print('test confusion matrix = \\n',confusion_matrix(y_test_up , y_test_up_pred))\n",
    "print()\n",
    "print('----Classification Report -------')\n",
    "print('Train = ',classification_report(y_train_up , y_train_up_pred))\n",
    "print(\"Test = \",classification_report(y_test_up , y_test_up_pred))"
   ]
  },
  {
   "cell_type": "markdown",
   "id": "aware-marketplace",
   "metadata": {},
   "source": [
    "### AUC and ROC "
   ]
  },
  {
   "cell_type": "code",
   "execution_count": 120,
   "id": "known-david",
   "metadata": {},
   "outputs": [],
   "source": [
    "from sklearn.metrics import roc_auc_score , roc_curve"
   ]
  },
  {
   "cell_type": "code",
   "execution_count": 121,
   "id": "substantial-joining",
   "metadata": {},
   "outputs": [],
   "source": [
    "y_test_auc = lg.predict_proba(X_test_up)[: , 1]"
   ]
  },
  {
   "cell_type": "code",
   "execution_count": 122,
   "id": "angry-extension",
   "metadata": {},
   "outputs": [
    {
     "data": {
      "text/plain": [
       "array([7.76964709e-02, 3.93189401e-04, 7.99114070e-01, ...,\n",
       "       9.98213764e-01, 8.97220408e-01, 9.98570584e-01])"
      ]
     },
     "execution_count": 122,
     "metadata": {},
     "output_type": "execute_result"
    }
   ],
   "source": [
    "y_test_auc"
   ]
  },
  {
   "cell_type": "code",
   "execution_count": 123,
   "id": "hidden-preference",
   "metadata": {},
   "outputs": [],
   "source": [
    "fpr , tpr , threshold = roc_curve(y_test_up,y_test_auc)"
   ]
  },
  {
   "cell_type": "code",
   "execution_count": 128,
   "id": "specified-letters",
   "metadata": {},
   "outputs": [
    {
     "name": "stdout",
     "output_type": "stream",
     "text": [
      "FPR = \n",
      "\n",
      " [0.00000000e+00 0.00000000e+00 0.00000000e+00 0.00000000e+00\n",
      " 0.00000000e+00 0.00000000e+00 0.00000000e+00 0.00000000e+00\n",
      " 0.00000000e+00 0.00000000e+00 0.00000000e+00 0.00000000e+00\n",
      " 0.00000000e+00 0.00000000e+00 0.00000000e+00 0.00000000e+00\n",
      " 0.00000000e+00 0.00000000e+00 0.00000000e+00 0.00000000e+00\n",
      " 0.00000000e+00 0.00000000e+00 0.00000000e+00 0.00000000e+00\n",
      " 0.00000000e+00 0.00000000e+00 0.00000000e+00 0.00000000e+00\n",
      " 0.00000000e+00 0.00000000e+00 0.00000000e+00 0.00000000e+00\n",
      " 0.00000000e+00 0.00000000e+00 0.00000000e+00 0.00000000e+00\n",
      " 0.00000000e+00 0.00000000e+00 0.00000000e+00 0.00000000e+00\n",
      " 0.00000000e+00 0.00000000e+00 0.00000000e+00 0.00000000e+00\n",
      " 0.00000000e+00 0.00000000e+00 0.00000000e+00 0.00000000e+00\n",
      " 0.00000000e+00 0.00000000e+00 0.00000000e+00 0.00000000e+00\n",
      " 0.00000000e+00 0.00000000e+00 0.00000000e+00 0.00000000e+00\n",
      " 0.00000000e+00 0.00000000e+00 0.00000000e+00 0.00000000e+00\n",
      " 0.00000000e+00 0.00000000e+00 0.00000000e+00 0.00000000e+00\n",
      " 0.00000000e+00 0.00000000e+00 0.00000000e+00 0.00000000e+00\n",
      " 0.00000000e+00 0.00000000e+00 0.00000000e+00 0.00000000e+00\n",
      " 0.00000000e+00 0.00000000e+00 0.00000000e+00 0.00000000e+00\n",
      " 0.00000000e+00 0.00000000e+00 0.00000000e+00 0.00000000e+00\n",
      " 0.00000000e+00 0.00000000e+00 0.00000000e+00 0.00000000e+00\n",
      " 0.00000000e+00 0.00000000e+00 0.00000000e+00 0.00000000e+00\n",
      " 0.00000000e+00 0.00000000e+00 0.00000000e+00 0.00000000e+00\n",
      " 0.00000000e+00 0.00000000e+00 0.00000000e+00 0.00000000e+00\n",
      " 0.00000000e+00 0.00000000e+00 0.00000000e+00 0.00000000e+00\n",
      " 0.00000000e+00 0.00000000e+00 0.00000000e+00 0.00000000e+00\n",
      " 0.00000000e+00 0.00000000e+00 0.00000000e+00 0.00000000e+00\n",
      " 0.00000000e+00 0.00000000e+00 0.00000000e+00 0.00000000e+00\n",
      " 0.00000000e+00 0.00000000e+00 0.00000000e+00 0.00000000e+00\n",
      " 0.00000000e+00 0.00000000e+00 0.00000000e+00 0.00000000e+00\n",
      " 0.00000000e+00 0.00000000e+00 0.00000000e+00 0.00000000e+00\n",
      " 0.00000000e+00 0.00000000e+00 0.00000000e+00 0.00000000e+00\n",
      " 0.00000000e+00 0.00000000e+00 0.00000000e+00 0.00000000e+00\n",
      " 0.00000000e+00 0.00000000e+00 0.00000000e+00 0.00000000e+00\n",
      " 0.00000000e+00 0.00000000e+00 0.00000000e+00 0.00000000e+00\n",
      " 0.00000000e+00 0.00000000e+00 0.00000000e+00 0.00000000e+00\n",
      " 0.00000000e+00 0.00000000e+00 0.00000000e+00 0.00000000e+00\n",
      " 0.00000000e+00 0.00000000e+00 0.00000000e+00 0.00000000e+00\n",
      " 0.00000000e+00 0.00000000e+00 0.00000000e+00 0.00000000e+00\n",
      " 0.00000000e+00 0.00000000e+00 0.00000000e+00 0.00000000e+00\n",
      " 0.00000000e+00 0.00000000e+00 0.00000000e+00 0.00000000e+00\n",
      " 6.30119723e-04 6.30119723e-04 6.30119723e-04 6.30119723e-04\n",
      " 6.30119723e-04 6.30119723e-04 6.30119723e-04 1.26023945e-03\n",
      " 1.26023945e-03 1.26023945e-03 1.26023945e-03 1.26023945e-03\n",
      " 1.26023945e-03 1.26023945e-03 1.26023945e-03 1.26023945e-03\n",
      " 1.26023945e-03 1.26023945e-03 1.26023945e-03 1.26023945e-03\n",
      " 1.26023945e-03 1.26023945e-03 1.26023945e-03 1.26023945e-03\n",
      " 1.26023945e-03 1.26023945e-03 1.26023945e-03 1.26023945e-03\n",
      " 1.26023945e-03 1.89035917e-03 1.89035917e-03 1.89035917e-03\n",
      " 1.89035917e-03 1.89035917e-03 1.89035917e-03 2.52047889e-03\n",
      " 2.52047889e-03 3.15059861e-03 3.15059861e-03 3.15059861e-03\n",
      " 3.15059861e-03 3.15059861e-03 3.15059861e-03 3.78071834e-03\n",
      " 3.78071834e-03 3.78071834e-03 3.78071834e-03 3.78071834e-03\n",
      " 3.78071834e-03 3.78071834e-03 3.78071834e-03 3.78071834e-03\n",
      " 3.78071834e-03 3.78071834e-03 3.78071834e-03 3.78071834e-03\n",
      " 3.78071834e-03 3.78071834e-03 4.41083806e-03 4.41083806e-03\n",
      " 4.41083806e-03 4.41083806e-03 4.41083806e-03 4.41083806e-03\n",
      " 5.67107750e-03 5.67107750e-03 6.30119723e-03 6.30119723e-03\n",
      " 6.30119723e-03 6.93131695e-03 6.93131695e-03 7.56143667e-03\n",
      " 7.56143667e-03 7.56143667e-03 7.56143667e-03 7.56143667e-03\n",
      " 7.56143667e-03 7.56143667e-03 7.56143667e-03 7.56143667e-03\n",
      " 7.56143667e-03 8.19155640e-03 8.19155640e-03 8.82167612e-03\n",
      " 8.82167612e-03 8.82167612e-03 8.82167612e-03 8.82167612e-03\n",
      " 9.45179584e-03 9.45179584e-03 1.00819156e-02 1.00819156e-02\n",
      " 1.00819156e-02 1.07120353e-02 1.07120353e-02 1.07120353e-02\n",
      " 1.07120353e-02 1.07120353e-02 1.07120353e-02 1.07120353e-02\n",
      " 1.07120353e-02 1.07120353e-02 1.07120353e-02 1.07120353e-02\n",
      " 1.07120353e-02 1.13421550e-02 1.13421550e-02 1.19722747e-02\n",
      " 1.19722747e-02 1.19722747e-02 1.26023945e-02 1.26023945e-02\n",
      " 1.32325142e-02 1.32325142e-02 1.32325142e-02 1.32325142e-02\n",
      " 1.38626339e-02 1.38626339e-02 1.38626339e-02 1.38626339e-02\n",
      " 1.63831128e-02 1.63831128e-02 1.63831128e-02 1.63831128e-02\n",
      " 1.70132325e-02 1.70132325e-02 1.70132325e-02 1.70132325e-02\n",
      " 1.70132325e-02 1.70132325e-02 1.70132325e-02 1.70132325e-02\n",
      " 1.70132325e-02 1.70132325e-02 1.70132325e-02 1.70132325e-02\n",
      " 1.76433522e-02 1.76433522e-02 1.76433522e-02 1.76433522e-02\n",
      " 1.95337114e-02 1.95337114e-02 1.95337114e-02 1.95337114e-02\n",
      " 2.07939509e-02 2.07939509e-02 2.07939509e-02 2.26843100e-02\n",
      " 2.39445495e-02 2.64650284e-02 2.64650284e-02 2.70951481e-02\n",
      " 2.70951481e-02 2.83553875e-02 2.83553875e-02 3.52867045e-02\n",
      " 4.03276623e-02 4.03276623e-02 4.15879017e-02 4.28481411e-02\n",
      " 5.16698173e-02 5.16698173e-02 5.29300567e-02 5.29300567e-02\n",
      " 5.86011342e-02 5.86011342e-02 6.17517328e-02 6.17517328e-02\n",
      " 6.30119723e-02 6.36420920e-02 6.36420920e-02 6.99432892e-02\n",
      " 6.99432892e-02 7.18336484e-02 7.18336484e-02 8.00252048e-02\n",
      " 8.00252048e-02 8.75866415e-02 8.75866415e-02 9.13673598e-02\n",
      " 9.13673598e-02 9.32577190e-02 9.32577190e-02 9.76685570e-02\n",
      " 9.76685570e-02 1.09640832e-01 1.09640832e-01 1.11531191e-01\n",
      " 1.11531191e-01 1.20982987e-01 1.20982987e-01 1.22873346e-01\n",
      " 1.22873346e-01 1.27284184e-01 1.27284184e-01 1.37996219e-01\n",
      " 1.38626339e-01 1.39886578e-01 1.41146818e-01 1.41146818e-01\n",
      " 1.41776938e-01 1.41776938e-01 1.43037177e-01 1.43667297e-01\n",
      " 1.44927536e-01 1.54379332e-01 1.55639572e-01 1.58160050e-01\n",
      " 1.58160050e-01 1.58790170e-01 1.60050410e-01 1.80844360e-01\n",
      " 1.83364839e-01 1.89035917e-01 1.89035917e-01 1.94706994e-01\n",
      " 1.94706994e-01 1.95967234e-01 1.95967234e-01 1.99747952e-01\n",
      " 2.01008192e-01 2.10459987e-01 2.10459987e-01 2.19281664e-01\n",
      " 2.21172023e-01 2.26843100e-01 2.28733459e-01 2.34404537e-01\n",
      " 2.35664776e-01 2.50787650e-01 2.53308129e-01 2.59609326e-01\n",
      " 2.61499685e-01 2.61499685e-01 2.72841840e-01 2.72841840e-01\n",
      " 2.82293636e-01 2.83553875e-01 2.86074354e-01 2.86074354e-01\n",
      " 2.94265911e-01 3.01827347e-01 3.18840580e-01 3.18840580e-01\n",
      " 3.44045369e-01 3.45935728e-01 4.02016383e-01 4.03276623e-01\n",
      " 4.05797101e-01 4.07057341e-01 4.39193447e-01 4.39193447e-01\n",
      " 4.49275362e-01 4.50535602e-01 4.53686200e-01 4.53686200e-01\n",
      " 4.67548834e-01 4.68809074e-01 4.71329553e-01 4.78890989e-01\n",
      " 4.92753623e-01 4.94013863e-01 5.87901701e-01 5.87901701e-01\n",
      " 5.89161941e-01 5.89161941e-01 5.99243856e-01 6.00504096e-01\n",
      " 6.14366730e-01 6.14366730e-01 6.26339004e-01 6.27599244e-01\n",
      " 6.38311279e-01 6.39571519e-01 6.40831758e-01 6.40831758e-01\n",
      " 6.59735350e-01 6.60995589e-01 6.61625709e-01 6.63516068e-01\n",
      " 6.78638941e-01 6.80529301e-01 6.82419660e-01 6.82419660e-01\n",
      " 6.98802773e-01 7.00063012e-01 7.20856963e-01 7.20856963e-01\n",
      " 7.27788280e-01 7.27788280e-01 7.36609956e-01 7.36609956e-01\n",
      " 7.41020794e-01 7.42281033e-01 7.59294266e-01 7.60554505e-01\n",
      " 7.63705104e-01 7.64965343e-01 7.75047259e-01 7.76307498e-01\n",
      " 7.90800252e-01 7.90800252e-01 8.05293006e-01 8.06553245e-01\n",
      " 8.34908633e-01 8.36168872e-01 8.60113422e-01 8.62633900e-01\n",
      " 8.74606175e-01 8.75866415e-01 9.08632640e-01 9.09892880e-01\n",
      " 9.11153119e-01 9.12413359e-01 9.27536232e-01 9.28796471e-01\n",
      " 9.30686830e-01 9.32577190e-01 9.60302457e-01 9.61562697e-01\n",
      " 9.76685570e-01 9.77945810e-01 1.00000000e+00]\n",
      "----------------------------------------------------------------------------------------------------\n",
      "TPR = \n",
      "\n",
      " [0.00000000e+00 6.30119723e-04 3.78071834e-03 6.30119723e-03\n",
      " 6.93131695e-03 8.19155640e-03 9.45179584e-03 1.13421550e-02\n",
      " 1.19722747e-02 1.63831128e-02 1.82734720e-02 1.95337114e-02\n",
      " 2.52047889e-02 2.77252678e-02 3.27662256e-02 3.40264650e-02\n",
      " 3.46565848e-02 3.65469439e-02 3.71770636e-02 4.03276623e-02\n",
      " 4.22180214e-02 4.28481411e-02 4.59987398e-02 5.04095778e-02\n",
      " 5.10396975e-02 5.35601764e-02 5.48204159e-02 5.67107750e-02\n",
      " 6.55324512e-02 6.67926906e-02 6.74228103e-02 7.05734089e-02\n",
      " 7.62444865e-02 7.68746062e-02 8.12854442e-02 8.19155640e-02\n",
      " 8.44360428e-02 8.63264020e-02 8.82167612e-02 8.94770006e-02\n",
      " 9.32577190e-02 9.45179584e-02 9.95589162e-02 1.01449275e-01\n",
      " 1.02709515e-01 1.07750473e-01 1.10270951e-01 1.12161311e-01\n",
      " 1.13421550e-01 1.15311909e-01 1.17202268e-01 1.17832388e-01\n",
      " 1.19722747e-01 1.20352867e-01 1.22243226e-01 1.24133585e-01\n",
      " 1.25393825e-01 1.27914304e-01 1.28544423e-01 1.31064902e-01\n",
      " 1.32955261e-01 1.34845621e-01 1.35475740e-01 1.36735980e-01\n",
      " 1.37366100e-01 1.39886578e-01 1.40516698e-01 1.41776938e-01\n",
      " 1.43037177e-01 1.44927536e-01 1.45557656e-01 1.47448015e-01\n",
      " 1.51228733e-01 1.55639572e-01 1.58790170e-01 1.60680529e-01\n",
      " 1.63201008e-01 1.63831128e-01 1.65091367e-01 1.65721487e-01\n",
      " 1.67611846e-01 1.68241966e-01 1.73913043e-01 1.74543163e-01\n",
      " 1.77063642e-01 1.77693762e-01 1.78954001e-01 1.79584121e-01\n",
      " 1.83994959e-01 1.85885318e-01 1.87145558e-01 1.90296156e-01\n",
      " 1.92186515e-01 1.94706994e-01 1.98487713e-01 1.99117832e-01\n",
      " 2.01008192e-01 2.02268431e-01 2.02898551e-01 2.04158790e-01\n",
      " 2.05419030e-01 2.06679269e-01 2.09829868e-01 2.12980466e-01\n",
      " 2.16761185e-01 2.17391304e-01 2.19911783e-01 2.21802142e-01\n",
      " 2.23692502e-01 2.24952741e-01 2.26843100e-01 2.28103340e-01\n",
      " 2.30623819e-01 2.31884058e-01 2.32514178e-01 2.35034657e-01\n",
      " 2.37555135e-01 2.40705734e-01 2.43856333e-01 2.45746692e-01\n",
      " 2.48267171e-01 2.49527410e-01 2.50787650e-01 2.51417769e-01\n",
      " 2.53938248e-01 2.58349086e-01 2.62129805e-01 2.64650284e-01\n",
      " 2.66540643e-01 2.68431002e-01 2.69061122e-01 2.73471960e-01\n",
      " 2.74102079e-01 2.75362319e-01 2.75992439e-01 2.79773157e-01\n",
      " 2.82293636e-01 2.83553875e-01 2.84814115e-01 2.85444234e-01\n",
      " 2.87334594e-01 2.87964713e-01 2.89855072e-01 2.90485192e-01\n",
      " 2.93635791e-01 2.94265911e-01 2.96786389e-01 2.99936988e-01\n",
      " 3.02457467e-01 3.04347826e-01 3.04977946e-01 3.06868305e-01\n",
      " 3.08128544e-01 3.10018904e-01 3.10649023e-01 3.24511657e-01\n",
      " 3.25141777e-01 3.26402016e-01 3.37114052e-01 3.41524890e-01\n",
      " 3.45305608e-01 3.49086326e-01 3.50346566e-01 3.52236925e-01\n",
      " 3.52236925e-01 3.52867045e-01 3.54127284e-01 3.54757404e-01\n",
      " 3.57277883e-01 3.62948960e-01 3.64209200e-01 3.64839319e-01\n",
      " 3.66099559e-01 3.66729679e-01 3.67989918e-01 3.68620038e-01\n",
      " 3.70510397e-01 3.74291115e-01 3.84373031e-01 3.90044108e-01\n",
      " 3.91304348e-01 3.91934468e-01 3.95085066e-01 3.96975425e-01\n",
      " 4.02646503e-01 4.03276623e-01 4.04536862e-01 4.07687461e-01\n",
      " 4.10838059e-01 4.12098299e-01 4.12728418e-01 4.16509137e-01\n",
      " 4.22180214e-01 4.22180214e-01 4.25960933e-01 4.33522369e-01\n",
      " 4.34782609e-01 4.54316320e-01 4.54946440e-01 4.54946440e-01\n",
      " 4.55576560e-01 4.55576560e-01 4.56836799e-01 4.59357278e-01\n",
      " 4.59987398e-01 4.61247637e-01 4.63768116e-01 4.63768116e-01\n",
      " 4.66918715e-01 4.70699433e-01 4.71959672e-01 4.73850032e-01\n",
      " 4.78260870e-01 4.78890989e-01 4.80151229e-01 4.83301827e-01\n",
      " 4.84562067e-01 4.85192187e-01 4.86452426e-01 4.87712665e-01\n",
      " 4.90233144e-01 4.90863264e-01 4.90863264e-01 4.92753623e-01\n",
      " 4.93383743e-01 5.00315060e-01 5.01575299e-01 5.02205419e-01\n",
      " 5.38752363e-01 5.40012602e-01 5.40012602e-01 5.40642722e-01\n",
      " 5.44423440e-01 5.50724638e-01 5.52614997e-01 5.52614997e-01\n",
      " 5.53245117e-01 5.55135476e-01 5.60176434e-01 5.60806553e-01\n",
      " 5.62696912e-01 5.63957152e-01 5.65847511e-01 5.67107750e-01\n",
      " 5.67737870e-01 5.67737870e-01 5.68367990e-01 5.68367990e-01\n",
      " 5.69628229e-01 5.70888469e-01 5.71518589e-01 5.72778828e-01\n",
      " 5.72778828e-01 5.74039067e-01 5.74039067e-01 5.74669187e-01\n",
      " 5.77189666e-01 5.77189666e-01 5.78449905e-01 5.80340265e-01\n",
      " 5.81600504e-01 5.84120983e-01 5.86011342e-01 5.86641462e-01\n",
      " 5.91052300e-01 5.94202899e-01 5.95463138e-01 5.97353497e-01\n",
      " 5.97983617e-01 5.97983617e-01 5.99243856e-01 5.99243856e-01\n",
      " 6.00504096e-01 6.03654694e-01 6.03654694e-01 6.04284814e-01\n",
      " 6.04284814e-01 6.05545054e-01 6.13106490e-01 6.14366730e-01\n",
      " 6.14366730e-01 6.15626969e-01 6.17517328e-01 6.18777568e-01\n",
      " 6.18777568e-01 6.19407687e-01 6.20667927e-01 6.21298047e-01\n",
      " 6.21298047e-01 6.21928166e-01 6.23188406e-01 6.23818526e-01\n",
      " 6.25078765e-01 6.25708885e-01 6.27599244e-01 6.28859483e-01\n",
      " 6.30119723e-01 6.31379962e-01 6.32010082e-01 6.35160681e-01\n",
      " 6.35160681e-01 6.35790800e-01 6.38941399e-01 6.40201638e-01\n",
      " 6.40201638e-01 6.41461878e-01 6.45872716e-01 6.46502836e-01\n",
      " 6.46502836e-01 6.50283554e-01 6.50913674e-01 6.50913674e-01\n",
      " 6.50913674e-01 6.50913674e-01 6.59105230e-01 6.59105230e-01\n",
      " 6.59735350e-01 6.59735350e-01 6.62255829e-01 9.55261500e-01\n",
      " 9.55261500e-01 9.55891619e-01 9.55891619e-01 9.55891619e-01\n",
      " 9.55891619e-01 9.57151859e-01 9.57151859e-01 9.58412098e-01\n",
      " 9.58412098e-01 9.59042218e-01 9.59042218e-01 9.67863894e-01\n",
      " 9.67863894e-01 9.67863894e-01 9.68494014e-01 9.68494014e-01\n",
      " 9.70384373e-01 9.70384373e-01 9.72274732e-01 9.72274732e-01\n",
      " 9.72904852e-01 9.72904852e-01 9.73534972e-01 9.73534972e-01\n",
      " 9.74165091e-01 9.74165091e-01 9.74795211e-01 9.74795211e-01\n",
      " 9.75425331e-01 9.75425331e-01 9.76055451e-01 9.76055451e-01\n",
      " 9.77945810e-01 9.77945810e-01 9.81726528e-01 9.81726528e-01\n",
      " 9.82986767e-01 9.82986767e-01 9.83616887e-01 9.83616887e-01\n",
      " 9.84877127e-01 9.84877127e-01 9.84877127e-01 9.85507246e-01\n",
      " 9.85507246e-01 9.86767486e-01 9.86767486e-01 9.86767486e-01\n",
      " 9.86767486e-01 9.86767486e-01 9.86767486e-01 9.86767486e-01\n",
      " 9.87397606e-01 9.87397606e-01 9.87397606e-01 9.87397606e-01\n",
      " 9.87397606e-01 9.87397606e-01 9.88027725e-01 9.88027725e-01\n",
      " 9.89287965e-01 9.89287965e-01 9.89918084e-01 9.89918084e-01\n",
      " 9.89918084e-01 9.89918084e-01 9.90548204e-01 9.90548204e-01\n",
      " 9.90548204e-01 9.90548204e-01 9.90548204e-01 9.90548204e-01\n",
      " 9.90548204e-01 9.90548204e-01 9.90548204e-01 9.90548204e-01\n",
      " 9.90548204e-01 9.91178324e-01 9.91178324e-01 9.91808444e-01\n",
      " 9.91808444e-01 9.91808444e-01 9.91808444e-01 9.92438563e-01\n",
      " 9.92438563e-01 9.92438563e-01 9.92438563e-01 9.93068683e-01\n",
      " 9.93068683e-01 9.93068683e-01 9.93068683e-01 9.93068683e-01\n",
      " 9.93068683e-01 9.93068683e-01 9.93068683e-01 9.93698803e-01\n",
      " 9.93698803e-01 9.93698803e-01 9.93698803e-01 9.94328922e-01\n",
      " 9.94328922e-01 9.94328922e-01 9.94328922e-01 9.94328922e-01\n",
      " 9.94328922e-01 9.94328922e-01 9.94328922e-01 9.94959042e-01\n",
      " 9.94959042e-01 9.95589162e-01 9.95589162e-01 9.95589162e-01\n",
      " 9.95589162e-01 9.96219282e-01 9.96219282e-01 9.96219282e-01\n",
      " 9.96219282e-01 9.96219282e-01 9.96219282e-01 9.96849401e-01\n",
      " 9.96849401e-01 9.96849401e-01 9.96849401e-01 9.96849401e-01\n",
      " 9.96849401e-01 9.96849401e-01 9.96849401e-01 9.97479521e-01\n",
      " 9.97479521e-01 9.97479521e-01 9.97479521e-01 9.98109641e-01\n",
      " 9.98109641e-01 9.98739761e-01 9.98739761e-01 9.99369880e-01\n",
      " 9.99369880e-01 9.99369880e-01 9.99369880e-01 9.99369880e-01\n",
      " 9.99369880e-01 9.99369880e-01 9.99369880e-01 9.99369880e-01\n",
      " 9.99369880e-01 1.00000000e+00 1.00000000e+00 1.00000000e+00\n",
      " 1.00000000e+00 1.00000000e+00 1.00000000e+00 1.00000000e+00\n",
      " 1.00000000e+00 1.00000000e+00 1.00000000e+00 1.00000000e+00\n",
      " 1.00000000e+00 1.00000000e+00 1.00000000e+00 1.00000000e+00\n",
      " 1.00000000e+00 1.00000000e+00 1.00000000e+00 1.00000000e+00\n",
      " 1.00000000e+00 1.00000000e+00 1.00000000e+00]\n"
     ]
    }
   ],
   "source": [
    "print(\"FPR = \\n\\n\",fpr)\n",
    "print('-'*100)\n",
    "print('TPR = \\n\\n',tpr)\n"
   ]
  },
  {
   "cell_type": "code",
   "execution_count": 130,
   "id": "liberal-monitor",
   "metadata": {},
   "outputs": [
    {
     "data": {
      "text/plain": [
       "[<matplotlib.lines.Line2D at 0x294a8870788>]"
      ]
     },
     "execution_count": 130,
     "metadata": {},
     "output_type": "execute_result"
    },
    {
     "data": {
      "image/png": "[encoded data removed]",
      "text/plain": [
       "<Figure size 432x288 with 1 Axes>"
      ]
     },
     "metadata": {
      "needs_background": "light"
     },
     "output_type": "display_data"
    }
   ],
   "source": [
    "plt.plot([0, 1], [0, 1], \"k--\", label = '50% AUC')"
   ]
  },
  {
   "cell_type": "code",
   "execution_count": 131,
   "id": "hundred-racing",
   "metadata": {},
   "outputs": [
    {
     "data": {
      "image/png": "[encoded data removed]",
      "text/plain": [
       "<Figure size 432x288 with 1 Axes>"
      ]
     },
     "metadata": {
      "needs_background": "light"
     },
     "output_type": "display_data"
    }
   ],
   "source": [
    "plt.plot([0, 1], [0, 1], \"k--\", label = '50% AUC')\n",
    "plt.plot(fpr, tpr, label = \"Logistic Regression\")\n",
    "plt.xlabel(\"FPR\")\n",
    "plt.ylabel(\"TPR\")\n",
    "plt.title(\"ROC Curve - Logistic Regression\")\n",
    "plt.legend(loc = 0)\n",
    "plt.show()"
   ]
  },
  {
   "cell_type": "code",
   "execution_count": 132,
   "id": "western-prospect",
   "metadata": {},
   "outputs": [
    {
     "data": {
      "text/plain": [
       "0.9799159760959497"
      ]
     },
     "execution_count": 132,
     "metadata": {},
     "output_type": "execute_result"
    }
   ],
   "source": [
    "roc_auc_score(y_test_up,y_test_auc)"
   ]
  },
  {
   "cell_type": "markdown",
   "id": "olive-castle",
   "metadata": {},
   "source": [
    "### Testing Real Data "
   ]
  },
  {
   "cell_type": "code",
   "execution_count": 141,
   "id": "mineral-british",
   "metadata": {},
   "outputs": [],
   "source": [
    "a = ['free entry wkly comp win fa cup final tkts st may text fa receive entry question std txt rate c apply']\n",
    "a = Co.transform(a)\n",
    "a = a.toarray()"
   ]
  },
  {
   "cell_type": "code",
   "execution_count": 142,
   "id": "earlier-kenya",
   "metadata": {},
   "outputs": [
    {
     "data": {
      "text/plain": [
       "array([1])"
      ]
     },
     "execution_count": 142,
     "metadata": {},
     "output_type": "execute_result"
    }
   ],
   "source": [
    "lg.predict(a)"
   ]
  },
  {
   "cell_type": "markdown",
   "id": "documentary-entertainment",
   "metadata": {},
   "source": [
    "### Saving Data "
   ]
  },
  {
   "cell_type": "code",
   "execution_count": 143,
   "id": "abandoned-granny",
   "metadata": {},
   "outputs": [],
   "source": [
    "import pickle "
   ]
  },
  {
   "cell_type": "code",
   "execution_count": 145,
   "id": "challenging-westminster",
   "metadata": {},
   "outputs": [],
   "source": [
    "with open('count.pkl','wb') as f:\n",
    "    pickle.dump(Co,f)"
   ]
  },
  {
   "cell_type": "code",
   "execution_count": 146,
   "id": "external-gateway",
   "metadata": {},
   "outputs": [],
   "source": [
    "ch = pickle.load(open('count.pkl','rb'))"
   ]
  },
  {
   "cell_type": "code",
   "execution_count": 153,
   "id": "authentic-collar",
   "metadata": {},
   "outputs": [],
   "source": [
    "a = ['free entry wkly comp win fa cup final tkts st may text fa receive entry question std txt rate c apply']\n",
    "b = ch.transform(a)\n",
    "b = b.toarray()"
   ]
  },
  {
   "cell_type": "code",
   "execution_count": 148,
   "id": "immune-accommodation",
   "metadata": {},
   "outputs": [
    {
     "data": {
      "text/plain": [
       "array([1])"
      ]
     },
     "execution_count": 148,
     "metadata": {},
     "output_type": "execute_result"
    }
   ],
   "source": [
    "lg.predict(b)"
   ]
  },
  {
   "cell_type": "code",
   "execution_count": 150,
   "id": "powered-madrid",
   "metadata": {},
   "outputs": [],
   "source": [
    "with open('spam.pkl','wb') as p:\n",
    "    pickle.dump(lg,p)"
   ]
  },
  {
   "cell_type": "code",
   "execution_count": 152,
   "id": "suburban-macedonia",
   "metadata": {},
   "outputs": [],
   "source": [
    "sol = pickle.load(open('spam.pkl','rb'))\n"
   ]
  },
  {
   "cell_type": "code",
   "execution_count": 154,
   "id": "excellent-mention",
   "metadata": {},
   "outputs": [
    {
     "data": {
      "text/plain": [
       "array([1])"
      ]
     },
     "execution_count": 154,
     "metadata": {},
     "output_type": "execute_result"
    }
   ],
   "source": [
    "sol.predict(b)"
   ]
  },
  {
   "cell_type": "code",
   "execution_count": null,
   "id": "arabic-xerox",
   "metadata": {},
   "outputs": [],
   "source": []
  }
 ],
 "metadata": {
  "kernelspec": {
   "display_name": "Python 3",
   "language": "python",
   "name": "python3"
  },
  "language_info": {
   "codemirror_mode": {
    "name": "ipython",
    "version": 3
   },
   "file_extension": ".py",
   "mimetype": "text/x-python",
   "name": "python",
   "nbconvert_exporter": "python",
   "pygments_lexer": "ipython3",
   "version": "3.7.9"
  }
 },
 "nbformat": 4,
 "nbformat_minor": 5
}
